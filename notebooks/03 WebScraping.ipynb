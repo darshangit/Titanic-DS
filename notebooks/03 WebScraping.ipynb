{
 "cells": [
  {
   "cell_type": "code",
   "execution_count": 1,
   "metadata": {},
   "outputs": [],
   "source": [
    "import requests\n",
    "from bs4 import BeautifulSoup"
   ]
  },
  {
   "cell_type": "code",
   "execution_count": 16,
   "metadata": {},
   "outputs": [],
   "source": [
    "html_string=\"\"\"<!doctype html>\n",
    "<html lang=\"en\">\n",
    "<head>\n",
    "  <title>Elements</title>\n",
    "</head>\n",
    "<body>\n",
    " <h1>AWesome Datshasmbsa</h1>\n",
    "\n",
    " <table>\n",
    "   <tr>\n",
    "     <td id=\"dash\">asklvnasv</td>\n",
    "     <td id=\"notdash\">asvasvasv</td>\n",
    "     <td id=\"smash\">askvblaks</td>\n",
    "   </tr>\n",
    " </table>\n",
    "</body>\n",
    "</html>\n",
    "\"\"\""
   ]
  },
  {
   "cell_type": "code",
   "execution_count": 17,
   "metadata": {},
   "outputs": [
    {
     "data": {
      "text/html": [
       "<!doctype html>\n",
       "<html lang=\"en\">\n",
       "<head>\n",
       "  <title>Elements</title>\n",
       "</head>\n",
       "<body>\n",
       " <h1>AWesome Datshasmbsa</h1>\n",
       "\n",
       " <table>\n",
       "   <tr>\n",
       "     <td id=\"dash\">asklvnasv</td>\n",
       "     <td id=\"notdash\">asvasvasv</td>\n",
       "     <td id=\"smash\">askvblaks</td>\n",
       "   </tr>\n",
       " </table>\n",
       "</body>\n",
       "</html>\n"
      ],
      "text/plain": [
       "<IPython.core.display.HTML object>"
      ]
     },
     "metadata": {},
     "output_type": "display_data"
    }
   ],
   "source": [
    "from IPython.core.display import display,HTML\n",
    "display(HTML(html_string))"
   ]
  },
  {
   "cell_type": "code",
   "execution_count": 18,
   "metadata": {},
   "outputs": [
    {
     "name": "stderr",
     "output_type": "stream",
     "text": [
      "C:\\Users\\Dash\\Anaconda3\\lib\\site-packages\\bs4\\__init__.py:181: UserWarning: No parser was explicitly specified, so I'm using the best available HTML parser for this system (\"lxml\"). This usually isn't a problem, but if you run this code on another system, or in a different virtual environment, it may use a different parser and behave differently.\n",
      "\n",
      "The code that caused this warning is on line 193 of the file C:\\Users\\Dash\\Anaconda3\\lib\\runpy.py. To get rid of this warning, change code that looks like this:\n",
      "\n",
      " BeautifulSoup(YOUR_MARKUP})\n",
      "\n",
      "to this:\n",
      "\n",
      " BeautifulSoup(YOUR_MARKUP, \"lxml\")\n",
      "\n",
      "  markup_type=markup_type))\n"
     ]
    }
   ],
   "source": [
    "ps = BeautifulSoup(html_string)"
   ]
  },
  {
   "cell_type": "code",
   "execution_count": 19,
   "metadata": {},
   "outputs": [
    {
     "name": "stdout",
     "output_type": "stream",
     "text": [
      "<!DOCTYPE html>\n",
      "<html lang=\"en\">\n",
      "<head>\n",
      "<title>Elements</title>\n",
      "</head>\n",
      "<body>\n",
      "<h1>AWesome Datshasmbsa</h1>\n",
      "<table>\n",
      "<tr>\n",
      "<td id=\"dash\">asklvnasv</td>\n",
      "<td id=\"notdash\">asvasvasv</td>\n",
      "<td id=\"smash\">askvblaks</td>\n",
      "</tr>\n",
      "</table>\n",
      "</body>\n",
      "</html>\n",
      "\n"
     ]
    }
   ],
   "source": [
    "print(ps)"
   ]
  },
  {
   "cell_type": "code",
   "execution_count": 20,
   "metadata": {},
   "outputs": [],
   "source": [
    "body = ps.find(name=\"body\")"
   ]
  },
  {
   "cell_type": "code",
   "execution_count": 21,
   "metadata": {},
   "outputs": [
    {
     "name": "stdout",
     "output_type": "stream",
     "text": [
      "<body>\n",
      "<h1>AWesome Datshasmbsa</h1>\n",
      "<table>\n",
      "<tr>\n",
      "<td id=\"dash\">asklvnasv</td>\n",
      "<td id=\"notdash\">asvasvasv</td>\n",
      "<td id=\"smash\">askvblaks</td>\n",
      "</tr>\n",
      "</table>\n",
      "</body>\n"
     ]
    }
   ],
   "source": [
    "print(body)"
   ]
  },
  {
   "cell_type": "code",
   "execution_count": 22,
   "metadata": {},
   "outputs": [
    {
     "name": "stdout",
     "output_type": "stream",
     "text": [
      "AWesome Datshasmbsa\n"
     ]
    }
   ],
   "source": [
    "print(body.find(name=\"h1\").text)"
   ]
  },
  {
   "cell_type": "code",
   "execution_count": 23,
   "metadata": {},
   "outputs": [
    {
     "name": "stdout",
     "output_type": "stream",
     "text": [
      "<td id=\"dash\">asklvnasv</td>\n"
     ]
    }
   ],
   "source": [
    "print(body.find(name=\"td\"))"
   ]
  },
  {
   "cell_type": "code",
   "execution_count": 24,
   "metadata": {},
   "outputs": [
    {
     "name": "stdout",
     "output_type": "stream",
     "text": [
      "[<td id=\"dash\">asklvnasv</td>, <td id=\"notdash\">asvasvasv</td>, <td id=\"smash\">askvblaks</td>]\n"
     ]
    }
   ],
   "source": [
    "print(body.findAll(name=\"td\"))"
   ]
  },
  {
   "cell_type": "code",
   "execution_count": 25,
   "metadata": {},
   "outputs": [
    {
     "name": "stdout",
     "output_type": "stream",
     "text": [
      "asklvnasv\n",
      "asvasvasv\n",
      "askvblaks\n"
     ]
    }
   ],
   "source": [
    "for p in body.findAll(name=\"td\"):\n",
    "    print(p.text)"
   ]
  },
  {
   "cell_type": "code",
   "execution_count": 27,
   "metadata": {},
   "outputs": [
    {
     "name": "stdout",
     "output_type": "stream",
     "text": [
      "<td id=\"notdash\">asvasvasv</td>\n"
     ]
    }
   ],
   "source": [
    "print(body.find(name=\"td\", attrs={\"id\": \"notdash\"}))"
   ]
  },
  {
   "cell_type": "code",
   "execution_count": null,
   "metadata": {},
   "outputs": [],
   "source": []
  }
 ],
 "metadata": {
  "kernelspec": {
   "display_name": "Python 3",
   "language": "python",
   "name": "python3"
  },
  "language_info": {
   "codemirror_mode": {
    "name": "ipython",
    "version": 3
   },
   "file_extension": ".py",
   "mimetype": "text/x-python",
   "name": "python",
   "nbconvert_exporter": "python",
   "pygments_lexer": "ipython3",
   "version": "3.6.5"
  }
 },
 "nbformat": 4,
 "nbformat_minor": 2
}
